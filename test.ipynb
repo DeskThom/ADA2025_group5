{
 "cells": [
  {
   "cell_type": "code",
   "execution_count": null,
   "id": "f7f5501d",
   "metadata": {},
   "outputs": [
    {
     "name": "stdout",
     "output_type": "stream",
     "text": [
      "cfe777d8-6a12-44be-97f9-9cac8b1cd5d8\n",
      "test_user\n",
      "2025-05-09 07:52:41.800118+00:00\n",
      "2025-05-09 08:22:41.800118+00:00\n"
     ]
    }
   ],
   "source": [
    "## AUTHENTICATION_SESSION - FUNCTION TESTS\n",
    "import account_managent.auth_session\n",
    "\n",
    "test_session = account_managent.auth_session.AuthenticationSession(user_id='test_user')\n",
    "\n",
    "# Tests\n",
    "print(test_session.session_id)\n",
    "print(test_session.user_id)\n",
    "print(test_session.login_time)\n",
    "print(test_session.expiry_time)"
   ]
  }
 ],
 "metadata": {
  "kernelspec": {
   "display_name": "Python 3",
   "language": "python",
   "name": "python3"
  },
  "language_info": {
   "codemirror_mode": {
    "name": "ipython",
    "version": 3
   },
   "file_extension": ".py",
   "mimetype": "text/x-python",
   "name": "python",
   "nbconvert_exporter": "python",
   "pygments_lexer": "ipython3",
   "version": "3.12.7"
  }
 },
 "nbformat": 4,
 "nbformat_minor": 5
}
