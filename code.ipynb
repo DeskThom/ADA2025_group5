{
 "cells": [
  {
   "cell_type": "code",
   "execution_count": 5,
   "id": "10cfb784",
   "metadata": {},
   "outputs": [],
   "source": [
    "import os\n",
    "import smtplib\n",
    "from email.mime.text import MIMEText\n",
    "from html import escape\n",
    "FROM_EMAIL = 'aidencemails@gmail.com'\n",
    "FROM_PASSWORD = 'xhspntpssdizvsnj'  # paste it here WITHOUT spaces\n"
   ]
  },
  {
   "cell_type": "code",
   "execution_count": 6,
   "id": "2e435a4a",
   "metadata": {},
   "outputs": [],
   "source": [
    "def send_email(to_email, subject, body):\n",
    "    msg = MIMEText(body)\n",
    "    msg['Subject'] = subject    \n",
    "    msg['From'] = FROM_EMAIL\n",
    "    msg['To'] = to_email\n",
    "\n",
    "    # Gmail SMTP server and port\n",
    "    with smtplib.SMTP_SSL('smtp.gmail.com', 465) as smtp:\n",
    "        smtp.login(FROM_EMAIL, FROM_PASSWORD)\n",
    "        smtp.send_message(msg)\n",
    "\n",
    "def send_email_to_user(request):\n",
    "    try:\n",
    "        request_json = request.get_json(silent=True)\n",
    "\n",
    "        if not request_json or 'email' not in request_json:\n",
    "            return \"Missing 'email' in request body\", 400\n",
    "\n",
    "        email = request_json['email']\n",
    "        send_email(email, \"Welcome to our service!\", \"Thanks for creating an account.\")\n",
    "        return f\"Email successfully sent to {escape(email)}\", 200\n",
    "    except Exception as e:\n",
    "        return f\"An error occurred: {str(e)}\", 500"
   ]
  },
  {
   "cell_type": "code",
   "execution_count": 8,
   "id": "8f3ccea9",
   "metadata": {},
   "outputs": [
    {
     "name": "stdout",
     "output_type": "stream",
     "text": [
      "Status: 200, Response: Email successfully sent to aidencemails@gmail.com\n"
     ]
    }
   ],
   "source": [
    "class MockRequest:\n",
    "    def __init__(self, json_data):\n",
    "        self._json_data = json_data\n",
    "    def get_json(self, silent=False):\n",
    "        return self._json_data\n",
    "\n",
    "# Replace with the email address you want to send to\n",
    "mock_request = MockRequest({'email': 'aidencemails@gmail.com'})\n",
    "response, status = send_email_to_user(mock_request)\n",
    "print(f\"Status: {status}, Response: {response}\")\n",
    "\n"
   ]
  }
 ],
 "metadata": {
  "kernelspec": {
   "display_name": "Python 3",
   "language": "python",
   "name": "python3"
  },
  "language_info": {
   "codemirror_mode": {
    "name": "ipython",
    "version": 3
   },
   "file_extension": ".py",
   "mimetype": "text/x-python",
   "name": "python",
   "nbconvert_exporter": "python",
   "pygments_lexer": "ipython3",
   "version": "3.11.9"
  }
 },
 "nbformat": 4,
 "nbformat_minor": 5
}
