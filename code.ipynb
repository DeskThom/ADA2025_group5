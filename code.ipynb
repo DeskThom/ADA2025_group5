{
 "cells": [
  {
   "cell_type": "code",
   "execution_count": null,
   "id": "10cfb784",
   "metadata": {},
   "outputs": [],
   "source": [
    "import os\n",
    "import smtplib\n",
    "from email.mime.text import MIMEText\n",
    "from html import escape\n",
    "FROM_EMAIL = 'aidencemails@gmail.com'\n",
    "FROM_PASSWORD = 'xhspntpssdizvsnj'  # paste it here WITHOUT spaces\n",
    "message1 = '''\n",
    "Hi Indika,\n",
    "\n",
    "Welcome to Aidence – where we’re all about scanning the future, one CT scan at a time! \n",
    "\n",
    "You’re now all set to take a deep breath and let us do the heavy lifting. Our AI is ready to analyze your lung CT scans and provide you with accurate, timely insights – no guesswork, just data-backed clarity.\n",
    "\n",
    "Here’s what you can expect:\n",
    "Fast and reliable scan analysis.\n",
    "Early detection of potential issues.\n",
    "Easy-to-understand reports.\n",
    "\n",
    "Ready to get started? Log in here: [Login Link]\n",
    "\n",
    "We’re here to help you breathe easier. Got questions? Reach out to our support team anytime. We’re all ears (and lungs!).\n",
    "\n",
    "Stay healthy,\n",
    "The Aidence Team\n",
    "\n",
    "P.S. Remember – when it comes to your lungs, we’ve got you covered, right down to the last pixel! \n",
    "'''\n",
    "\n",
    "message2 = '''\n",
    "Hi Indika,\n",
    "\n",
    "Looks like it’s time to part ways – but remember, at Aidence, you’ll always have a lung-standing friend! \n",
    "\n",
    "We’re sad to see you go, but we hope our AI-powered scans have helped you breathe a little easier. Whether it’s keeping an eye on your health or just giving you some peace of mind, we’re glad to have been a part of your wellness journey.\n",
    "\n",
    "Before we sign off, here’s a little reminder of what we covered:  Fast and reliable scan analysis. Early detection – right down to the smallest nodule.  Clear, actionable reports.\n",
    "\n",
    "If you ever need us again, we’re just a click away – ready to scan and deliver clarity.\n",
    "\n",
    "Stay healthy and keep breathing easy, The Aidence Team\n",
    "\n",
    "'''\n",
    "\n"
   ]
  },
  {
   "cell_type": "code",
   "execution_count": null,
   "id": "2e435a4a",
   "metadata": {},
   "outputs": [],
   "source": [
    "def send_email(to_email, subject, body):\n",
    "    msg = MIMEText(body)\n",
    "    msg['Subject'] = subject    \n",
    "    msg['From'] = FROM_EMAIL\n",
    "    msg['To'] = to_email\n",
    "\n",
    "    with smtplib.SMTP_SSL('smtp.gmail.com', 465) as smtp:\n",
    "        smtp.login(FROM_EMAIL, FROM_PASSWORD)\n",
    "        response = smtp.send_message(msg)\n",
    "        if response == {}:\n",
    "            return True\n",
    "        return False\n",
    "\n",
    "def send_email_to_user(request):\n",
    "\n",
    "    request_json = request.get_json(silent=True)\n",
    "\n",
    "    if not request_json or 'email' not in request_json:\n",
    "        return \"Missing 'email' in request body\", 400\n",
    "\n",
    "    email = request_json['email']\n",
    "    type = request_json['type']\n",
    "    other_data = request_json['other_data']\n",
    "    if type == 1:\n",
    "        if send_email(email, \"Welcome to our service!\", message1):\n",
    "            return f\"Email successfully sent to {email}\", 200\n",
    "\n",
    "    elif type == 2:\n",
    "        if send_email(email, \"Account deleted\", message2):\n",
    "            return f\"Email successfully sent to {email}\", 200\n",
    "\n",
    "    elif type == 3:\n",
    "        if send_email(email, \"Report created\", other_data):\n",
    "            return f\"Email successfully sent to {email}\", 200\n",
    "   \n",
    "    return f\"Failed to send email to {email}\", 500"
   ]
  },
  {
   "cell_type": "code",
   "execution_count": null,
   "id": "8f3ccea9",
   "metadata": {},
   "outputs": [
    {
     "name": "stdout",
     "output_type": "stream",
     "text": [
      "Status: 200, Response: Email successfully sent to aidencemails@gmail.com\n"
     ]
    }
   ],
   "source": [
    "class MockRequest:\n",
    "    def __init__(self, json_data):\n",
    "        self._json_data = json_data\n",
    "    def get_json(self, silent=False):\n",
    "        return self._json_data\n",
    "\n",
    "# Replace with the email address you want to send to\n",
    "mock_request = MockRequest({\n",
    "                \"email\": \"aidencemails@gmail.com\",\n",
    "                \"type\": 3,\n",
    "                \"other_data\": \"death\"  \n",
    "            })\n",
    "response, status = send_email_to_user(mock_request)\n",
    "print(f\"Status: {status}, Response: {response}\")\n",
    "\n"
   ]
  },
  {
   "cell_type": "code",
   "execution_count": 11,
   "id": "dc01bf63",
   "metadata": {},
   "outputs": [
    {
     "name": "stdout",
     "output_type": "stream",
     "text": [
      "   userId        username              email  type           password\n",
      "0       1      dummy_user  dummy@example.com     1  securepassword123\n",
      "1       2        john doe     john@email.com     2        password123\n",
      "2       3        john doe     john@email.com     2        password123\n",
      "3       4  Niels Boonstra    niels@email.com     2        password123\n",
      "4       5     andreaCiava         jarig@mail     2             andrea\n"
     ]
    }
   ],
   "source": [
    "# Import required libraries\n",
    "import sqlite3\n",
    "import pandas as pd\n",
    "\n",
    "# Connect to your database (adjust the path if needed)\n",
    "conn = sqlite3.connect('data/aidence.db')  # or './aidence.db' if in a subfolder\n",
    "\n",
    "# Query the Report table\n",
    "#df = pd.read_sql_query(\"SELECT * FROM Reports\", conn)\n",
    "\n",
    "# Query to list all tables\n",
    "#tables = conn.execute(\"SELECT name FROM sqlite_master WHERE type='table';\").fetchall()\n",
    "\n",
    "# Print table names\n",
    "#print(\"Tables in database:\")\n",
    "##for table in tables:\n",
    " #   print(table[0])\n",
    "\n",
    "# Read all rows from the Report table into a DataFrame\n",
    "df_report = pd.read_sql_query(\"SELECT * FROM User\", conn)\n",
    "\n",
    "# Display the DataFrame\n",
    "print(df_report.head())  # or just df_report to see all rows\n",
    "\n",
    "conn.close()"
   ]
  },
  {
   "cell_type": "code",
   "execution_count": 10,
   "id": "defdcc91",
   "metadata": {},
   "outputs": [
    {
     "data": {
      "text/html": [
       "<div>\n",
       "<style scoped>\n",
       "    .dataframe tbody tr th:only-of-type {\n",
       "        vertical-align: middle;\n",
       "    }\n",
       "\n",
       "    .dataframe tbody tr th {\n",
       "        vertical-align: top;\n",
       "    }\n",
       "\n",
       "    .dataframe thead th {\n",
       "        text-align: right;\n",
       "    }\n",
       "</style>\n",
       "<table border=\"1\" class=\"dataframe\">\n",
       "  <thead>\n",
       "    <tr style=\"text-align: right;\">\n",
       "      <th></th>\n",
       "      <th>id</th>\n",
       "      <th>createdAt</th>\n",
       "      <th>ctScanAnalysis</th>\n",
       "      <th>content</th>\n",
       "      <th>owner</th>\n",
       "    </tr>\n",
       "  </thead>\n",
       "  <tbody>\n",
       "    <tr>\n",
       "      <th>0</th>\n",
       "      <td>1</td>\n",
       "      <td>2025-05-11T15:49:23.735487</td>\n",
       "      <td>1</td>\n",
       "      <td>&lt;html&gt;&lt;body&gt;&lt;h1&gt;CT Scan Report&lt;/h1&gt;&lt;/body&gt;&lt;/html&gt;</td>\n",
       "      <td>1</td>\n",
       "    </tr>\n",
       "    <tr>\n",
       "      <th>1</th>\n",
       "      <td>2</td>\n",
       "      <td>2025-05-11T16:00:07.037154</td>\n",
       "      <td>1</td>\n",
       "      <td>\\n    &lt;html&gt;\\n        &lt;head&gt;&lt;title&gt;CT Scan Rep...</td>\n",
       "      <td>1</td>\n",
       "    </tr>\n",
       "  </tbody>\n",
       "</table>\n",
       "</div>"
      ],
      "text/plain": [
       "   id                   createdAt  ctScanAnalysis  \\\n",
       "0   1  2025-05-11T15:49:23.735487               1   \n",
       "1   2  2025-05-11T16:00:07.037154               1   \n",
       "\n",
       "                                             content  owner  \n",
       "0  <html><body><h1>CT Scan Report</h1></body></html>      1  \n",
       "1  \\n    <html>\\n        <head><title>CT Scan Rep...      1  "
      ]
     },
     "execution_count": 10,
     "metadata": {},
     "output_type": "execute_result"
    }
   ],
   "source": [
    "df_report"
   ]
  }
 ],
 "metadata": {
  "kernelspec": {
   "display_name": "Python 3",
   "language": "python",
   "name": "python3"
  },
  "language_info": {
   "codemirror_mode": {
    "name": "ipython",
    "version": 3
   },
   "file_extension": ".py",
   "mimetype": "text/x-python",
   "name": "python",
   "nbconvert_exporter": "python",
   "pygments_lexer": "ipython3",
   "version": "3.11.9"
  }
 },
 "nbformat": 4,
 "nbformat_minor": 5
}
