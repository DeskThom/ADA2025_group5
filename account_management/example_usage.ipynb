{
 "cells": [
  {
   "cell_type": "code",
   "execution_count": 1,
   "id": "1aa7b839",
   "metadata": {},
   "outputs": [
    {
     "name": "stdout",
     "output_type": "stream",
     "text": [
      "True\n",
      "Expiry refresh not needed yet\n",
      "True\n",
      "False\n"
     ]
    }
   ],
   "source": [
    "from user import User, UserRepository\n",
    "from auth_session import LoginSession, Authenticator\n",
    "\n",
    "# Initialize the UserRepository (acts as a mock database)\n",
    "user_repo = UserRepository()\n",
    "\n",
    "# Add some users to the repository\n",
    "user_repo.add_user(User(user_id=\"1\", username=\"alice\", password=\"secret\"))\n",
    "user_repo.add_user(User(user_id=\"2\", username=\"bob\", password=\"password123\"))\n",
    "\n",
    "# Initialize the Authenticator with the UserRepository\n",
    "authenticator = Authenticator(user_repository=user_repo)\n",
    "\n",
    "# User logs in (this will create a new session)\n",
    "session = authenticator.login('alice', 'secret')\n",
    "\n",
    "# Validate session (check if the session is still active)\n",
    "print(authenticator.validate_session(session.session_id))  # Should print True\n",
    "\n",
    "# Refresh the session expiry time\n",
    "authenticator.refresh_session(session.session_id)\n",
    "\n",
    "# Validate session again after refreshing (should still be valid)\n",
    "print(authenticator.validate_session(session.session_id))  # Should print True\n",
    "\n",
    "# Logout the user\n",
    "authenticator.logout(session.session_id)\n",
    "\n",
    "# Validate session after logout (should be invalid now)\n",
    "print(authenticator.validate_session(session.session_id))  # Should print False"
   ]
  },
  {
   "cell_type": "code",
   "execution_count": 2,
   "id": "acb4fd58",
   "metadata": {},
   "outputs": [
    {
     "name": "stdout",
     "output_type": "stream",
     "text": [
      "User Repository: {'alice': <user.User object at 0x000001D71F4C3590>, 'bob': <user.User object at 0x000001D71F4C3DA0>}\n",
      "\n",
      "Created session after login: LoginSession(session_id='dda82b2e-bc3d-4f8f-811a-56e3c68ac6ab', user_id='1', login_time='2025-05-09 08:50:12.801914+00:00', expiry_time='2025-05-09 09:20:12.801914+00:00')\n",
      "\n",
      "Validate session after login: True\n",
      "Expiry refresh not needed yet\n",
      "\n",
      "Session after refreshing expiry: LoginSession(session_id='dda82b2e-bc3d-4f8f-811a-56e3c68ac6ab', user_id='1', login_time='2025-05-09 08:50:12.801914+00:00', expiry_time='2025-05-09 09:20:12.801914+00:00')\n",
      "\n",
      "Validate session after refreshing: True\n",
      "\n",
      "User repository after logout: {'alice': <user.User object at 0x000001D71F4C3590>, 'bob': <user.User object at 0x000001D71F4C3DA0>}\n",
      "\n",
      "Validate session after logout: False\n",
      "\n",
      "Current sessions in Authenticator: {}\n"
     ]
    }
   ],
   "source": [
    "from user import User, UserRepository\n",
    "from auth_session import LoginSession, Authenticator\n",
    "\n",
    "# Initialize the UserRepository (acts as a mock database)\n",
    "user_repo = UserRepository()\n",
    "\n",
    "# Add some users to the repository\n",
    "user_repo.add_user(User(user_id=\"1\", username=\"alice\", password=\"secret\"))\n",
    "user_repo.add_user(User(user_id=\"2\", username=\"bob\", password=\"password123\"))\n",
    "\n",
    "# Display the user repository\n",
    "print(\"User Repository:\", user_repo.users)\n",
    "\n",
    "# Initialize the Authenticator with the UserRepository\n",
    "authenticator = Authenticator(user_repository=user_repo)\n",
    "\n",
    "# User logs in (this will create a new session)\n",
    "session = authenticator.login('alice', 'secret')\n",
    "print(\"\\nCreated session after login:\", session)\n",
    "\n",
    "# Validate session (check if the session is still active)\n",
    "print(\"\\nValidate session after login:\", authenticator.validate_session(session.session_id))  # Should print True\n",
    "\n",
    "# Refresh the session expiry time\n",
    "authenticator.refresh_session(session.session_id)\n",
    "print(\"\\nSession after refreshing expiry:\", session)\n",
    "\n",
    "# Validate session again after refreshing (should still be valid)\n",
    "print(\"\\nValidate session after refreshing:\", authenticator.validate_session(session.session_id))  # Should print True\n",
    "\n",
    "# Logout the user\n",
    "authenticator.logout(session.session_id)\n",
    "print(\"\\nUser repository after logout:\", user_repo.users)\n",
    "\n",
    "# Validate session after logout (should be invalid now)\n",
    "print(\"\\nValidate session after logout:\", authenticator.validate_session(session.session_id))  # Should print False\n",
    "\n",
    "# Display current sessions in Authenticator (should be empty after logout)\n",
    "print(\"\\nCurrent sessions in Authenticator:\", authenticator.sessions)"
   ]
  }
 ],
 "metadata": {
  "kernelspec": {
   "display_name": "Python 3",
   "language": "python",
   "name": "python3"
  },
  "language_info": {
   "codemirror_mode": {
    "name": "ipython",
    "version": 3
   },
   "file_extension": ".py",
   "mimetype": "text/x-python",
   "name": "python",
   "nbconvert_exporter": "python",
   "pygments_lexer": "ipython3",
   "version": "3.12.7"
  }
 },
 "nbformat": 4,
 "nbformat_minor": 5
}
