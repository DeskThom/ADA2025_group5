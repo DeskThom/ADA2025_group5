{
 "cells": [
  {
   "cell_type": "code",
   "execution_count": 3,
   "id": "0acc14d1",
   "metadata": {},
   "outputs": [
    {
     "name": "stdout",
     "output_type": "stream",
     "text": [
      "Tables: [('User',), ('sqlite_sequence',), ('Session',), ('CtScan',), ('CtScanAnalysis',), ('Report',), ('sqlite_stat1',), ('sqlite_stat4',)]\n",
      "Data from user table: [(1, 'dummy_user', 'dummy@example.com', 1, 'securepassword123'), (2, 'john doe', 'john@email.com', 2, 'password123'), (3, 'john doe', 'john@email.com', 2, 'password123')]\n"
     ]
    }
   ],
   "source": [
    "import sqlite3\n",
    "\n",
    "# Connect to the database (adjust the path if necessary)\n",
    "conn = sqlite3.connect('aidence.db')\n",
    "cursor = conn.cursor()\n",
    "\n",
    "# List tables\n",
    "cursor.execute(\"SELECT name FROM sqlite_master WHERE type='table';\")\n",
    "tables = cursor.fetchall()\n",
    "print(\"Tables:\", tables)\n",
    "\n",
    "# Query data from a specific table (replace 'your_table_name' with an actual table name)\n",
    "cursor.execute(\"SELECT * FROM User LIMIT 10;\")\n",
    "rows = cursor.fetchall()\n",
    "print(\"Data from user table:\", rows)\n",
    "\n",
    "# Close the connection\n",
    "conn.close()"
   ]
  }
 ],
 "metadata": {
  "kernelspec": {
   "display_name": "Python 3",
   "language": "python",
   "name": "python3"
  },
  "language_info": {
   "codemirror_mode": {
    "name": "ipython",
    "version": 3
   },
   "file_extension": ".py",
   "mimetype": "text/x-python",
   "name": "python",
   "nbconvert_exporter": "python",
   "pygments_lexer": "ipython3",
   "version": "3.11.9"
  }
 },
 "nbformat": 4,
 "nbformat_minor": 5
}
